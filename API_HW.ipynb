{
 "cells": [
  {
   "cell_type": "markdown",
   "metadata": {},
   "source": [
    "# APIs\n"
   ]
  },
  {
   "cell_type": "markdown",
   "metadata": {},
   "source": [
    "## Tasks Today:\n",
    "1) <b>Requests and the pokemon API </b> <br>\n",
    " "
   ]
  },
  {
   "cell_type": "markdown",
   "metadata": {},
   "source": [
    "# working with APis"
   ]
  },
  {
   "cell_type": "markdown",
   "metadata": {},
   "source": [
    "<p> What exactly is an API? <br> <br>\n",
    "API is the acronym for Application Programming Interface, which is a software intermediary that allows two applications to talk to each other. Each time you use an app like Facebook, send an instant message, or check the weather on your phone, you're using an API. </p>"
   ]
  },
  {
   "cell_type": "markdown",
   "metadata": {},
   "source": [
    "### The Poke API  allows you to retreive a pokemon's information from PokeAPI https://pokeapi.co/\n",
    "\n"
   ]
  },
  {
   "cell_type": "code",
   "execution_count": 7,
   "metadata": {},
   "outputs": [
    {
     "name": "stdout",
     "output_type": "stream",
     "text": [
      "What Pokemon are you looking for? ditti\n",
      "Error, Status Code 404\n"
     ]
    }
   ],
   "source": [
    "# making an API call\n",
    "import requests\n",
    "\n",
    "# Grab the url for the api_endpoint\n",
    "api_endpoint = 'https://pokeapi.co/api/v2/pokemon/'\n",
    "pokemon = input('What Pokemon are you looking for? ')\n",
    "response = requests.get(api_endpoint+pokemon)\n",
    "\n",
    "if response.status_code == 200:\n",
    "    data = response.json()\n",
    "    print(data)\n",
    "    \n",
    "else:\n",
    "    print(f'Error, Status Code {response.status_code}')"
   ]
  },
  {
   "cell_type": "markdown",
   "metadata": {},
   "source": [
    "### Display a Pokemon's name, weight, abilities, and types"
   ]
  },
  {
   "cell_type": "code",
   "execution_count": 4,
   "metadata": {},
   "outputs": [],
   "source": [
    "# get the name\n",
    "name = data['forms'][0]['name']"
   ]
  },
  {
   "cell_type": "code",
   "execution_count": 5,
   "metadata": {},
   "outputs": [],
   "source": [
    "# get types\n",
    "types = data['types']"
   ]
  },
  {
   "cell_type": "code",
   "execution_count": 6,
   "metadata": {},
   "outputs": [],
   "source": [
    "# get weight\n",
    "weight = data['weight']"
   ]
  },
  {
   "cell_type": "code",
   "execution_count": 11,
   "metadata": {},
   "outputs": [
    {
     "name": "stdout",
     "output_type": "stream",
     "text": [
      "['limber', 'imposter']\n"
     ]
    }
   ],
   "source": [
    "# get abilities\n",
    "abilities = data['abilities']\n",
    "# print(abilities)\n",
    "list_of_abilities = [ability['ability']['name'] for ability in abilities]\n",
    "print(list_of_abilities)"
   ]
  },
  {
   "cell_type": "code",
   "execution_count": 23,
   "metadata": {},
   "outputs": [
    {
     "name": "stdout",
     "output_type": "stream",
     "text": [
      "['limber', 'imposter']\n"
     ]
    }
   ],
   "source": [
    "# Create a structure for a single pokemon\n",
    "poke_information = {\n",
    "    'name': data['forms'][0]['name'],\n",
    "    'types': data['types'],\n",
    "    'weight': data['weight'],\n",
    "    'abilities': [ability['ability']['name'] for ability in abilities]\n",
    "}\n",
    "print(poke_information['abilities'])"
   ]
  },
  {
   "cell_type": "code",
   "execution_count": null,
   "metadata": {},
   "outputs": [],
   "source": []
  },
  {
   "cell_type": "markdown",
   "metadata": {},
   "source": [
    "#### Create a function to Pull in your own Pokemon's data "
   ]
  },
  {
   "cell_type": "code",
   "execution_count": 42,
   "metadata": {},
   "outputs": [
    {
     "name": "stdout",
     "output_type": "stream",
     "text": [
      "What kind of pokemon?: ditto\n"
     ]
    },
    {
     "data": {
      "text/plain": [
       "{'name': 'ditto',\n",
       " 'types': ['normal'],\n",
       " 'weight': 40,\n",
       " 'abilities': ['limber', 'imposter']}"
      ]
     },
     "execution_count": 42,
     "metadata": {},
     "output_type": "execute_result"
    }
   ],
   "source": [
    "def poke_api_call(pokemon):\n",
    "    poke_dict = {}\n",
    "    response = requests.get(api_endpoint+pokemon)\n",
    "    if response.status_code == 200:\n",
    "        data = response.json()\n",
    "        poke_dict = { \n",
    "            'name': data['forms'][0]['name'],\n",
    "            'types': [type['type']['name'] for type in data['types']],\n",
    "            'weight': data['weight'],\n",
    "            'abilities': [ability['ability']['name'] for ability in abilities]\n",
    "        }\n",
    "    else:\n",
    "        print(f'Error, Status Code {response.status_code}')\n",
    "    return poke_dict\n",
    "\n",
    "poke_api_call(input('What kind of pokemon?: '))"
   ]
  },
  {
   "cell_type": "markdown",
   "metadata": {},
   "source": [
    "Choose your pokemon"
   ]
  },
  {
   "cell_type": "code",
   "execution_count": 48,
   "metadata": {},
   "outputs": [
    {
     "name": "stdout",
     "output_type": "stream",
     "text": [
      "{'electabuzz': {'name': 'electabuzz', 'types': ['electric'], 'weight': 300, 'abilities': ['limber', 'imposter']}, 'haunter': {'name': 'haunter', 'types': ['ghost', 'poison'], 'weight': 1, 'abilities': ['limber', 'imposter']}, 'tyranitar': {'name': 'tyranitar', 'types': ['rock', 'dark'], 'weight': 2020, 'abilities': ['limber', 'imposter']}, 'blaziken': {'name': 'blaziken', 'types': ['fire', 'fighting'], 'weight': 520, 'abilities': ['limber', 'imposter']}, 'marowak': {'name': 'marowak', 'types': ['ground'], 'weight': 450, 'abilities': ['limber', 'imposter']}, 'dragonair': {'name': 'dragonair', 'types': ['dragon'], 'weight': 165, 'abilities': ['limber', 'imposter']}}\n"
     ]
    }
   ],
   "source": [
    "from random import randint\n",
    "# Random number generated for each pokemon id\n",
    "random_team = [randint(1,898) for i in range(6)]\n",
    "\n",
    "your_team = ['electabuzz', 'haunter','tyranitar','blaziken','marowak','dragonair']\n",
    "\n",
    "your_team_dict = {pokemon:poke_api_call(pokemon) for pokemon in your_team}\n",
    "print(your_team_dict)"
   ]
  },
  {
   "cell_type": "markdown",
   "metadata": {},
   "source": [
    "#### Use your function to create a dictionary of your Johto League 6  (favorite 6 pokemon)"
   ]
  },
  {
   "cell_type": "code",
   "execution_count": 45,
   "metadata": {},
   "outputs": [
    {
     "name": "stdout",
     "output_type": "stream",
     "text": [
      "sandygast = {'name': 'sandygast', 'types': ['ghost', 'ground'], 'weight': 700, 'abilities': ['limber', 'imposter']} \n",
      "\n",
      "pikachu = {'name': 'pikachu', 'types': ['electric'], 'weight': 60, 'abilities': ['limber', 'imposter']} \n",
      "\n",
      "chikorita = {'name': 'chikorita', 'types': ['grass'], 'weight': 64, 'abilities': ['limber', 'imposter']} \n",
      "\n",
      "sylveon = {'name': 'sylveon', 'types': ['fairy'], 'weight': 235, 'abilities': ['limber', 'imposter']} \n",
      "\n",
      "oddish = {'name': 'oddish', 'types': ['grass', 'poison'], 'weight': 54, 'abilities': ['limber', 'imposter']} \n",
      "\n",
      "seel = {'name': 'seel', 'types': ['water'], 'weight': 900, 'abilities': ['limber', 'imposter']} \n",
      "\n"
     ]
    }
   ],
   "source": [
    "# Place all 6 of your pokemon on the object below, each pokemon should have at least as much info as Pikachu did.\n",
    "my_six_pokemon = {}\n",
    "for i in random_team:\n",
    "    new_poke = poke_api_call(str(i))\n",
    "    my_six_pokemon[new_poke['name']] = new_poke\n",
    "\n",
    "for key in my_six_pokemon:\n",
    "    print(key, '=', my_six_pokemon[key], '\\n')\n",
    "    \n"
   ]
  },
  {
   "cell_type": "markdown",
   "metadata": {},
   "source": [
    "## Lets create a class called 'Pokemon' and create our pokemon as instances"
   ]
  },
  {
   "cell_type": "code",
   "execution_count": 55,
   "metadata": {},
   "outputs": [
    {
     "name": "stdout",
     "output_type": "stream",
     "text": [
      "Success\n",
      "('bulbasaur',)\n",
      "https://raw.githubusercontent.com/PokeAPI/sprites/master/sprites/pokemon/1.png\n"
     ]
    }
   ],
   "source": [
    "class Pokemon():\n",
    "    def __init__(self, pokemon):\n",
    "        self.name = pokemon\n",
    "        self.abilities = []\n",
    "        self.types = []\n",
    "        self.weight = None\n",
    "        self.picture = None\n",
    "        self.call_poke_api()\n",
    "        \n",
    "    def call_poke_api(self):\n",
    "        response = requests.get(f'{api_endpoint}{self.name}')\n",
    "        if response.status_code == 200:\n",
    "            print('Success')\n",
    "            data = response.json()\n",
    "            self.name = data['forms'][0]['name'],\n",
    "            self.types = [type_d['type']['name'] for type_d in data['types']]\n",
    "            self.weight = data['weight']\n",
    "            self.abilities = [ability['ability']['name'] for ability in abilities]\n",
    "            self.picture = data['sprites']['front_default']\n",
    "        else:\n",
    "            print(f'Error Status Code {response.status_code}')\n",
    "            \n",
    "charmander = Pokemon(1)\n",
    "print(charmander.name)\n",
    "print(charmander.picture)"
   ]
  },
  {
   "cell_type": "markdown",
   "metadata": {},
   "source": [
    "### Let's Catch some Pokemon"
   ]
  },
  {
   "cell_type": "code",
   "execution_count": 56,
   "metadata": {},
   "outputs": [
    {
     "data": {
      "image/png": "[encoded data removed]",
      "text/plain": [
       "<IPython.core.display.Image object>"
      ]
     },
     "metadata": {},
     "output_type": "display_data"
    }
   ],
   "source": [
    "from IPython.display import Image\n",
    "display(Image(charmander.picture))"
   ]
  },
  {
   "cell_type": "code",
   "execution_count": 67,
   "metadata": {},
   "outputs": [
    {
     "name": "stdout",
     "output_type": "stream",
     "text": [
      "Success\n",
      "Success\n",
      "YY's Pokedex\n",
      "charmander:<__main__.Pokemon object at 0x7fb1b8fe54b0>\n",
      "mudkip:<__main__.Pokemon object at 0x7fb1c87c1900>\n"
     ]
    }
   ],
   "source": [
    "class Pokedex:\n",
    "    def __init__(self, username):\n",
    "        self.username = username\n",
    "        self.pokemon = {}\n",
    "    def add_pokemon(self, pokemon):\n",
    "        self.pokemon[pokemon] = Pokemon(pokemon)\n",
    "    def print_pokedex(self):\n",
    "        print(f'{self.username}\\'s Pokedex')\n",
    "        for key in self.pokemon:\n",
    "            print(f'{key}:{self.pokemon[key]}')\n",
    "\n",
    "yy_dex = Pokedex(\"YY\")\n",
    "yy_dex.add_pokemon('charmander')\n",
    "yy_dex.add_pokemon('mudkip')\n",
    "yy_dex.print_pokedex()"
   ]
  },
  {
   "cell_type": "markdown",
   "metadata": {},
   "source": [
    "## Exercise 1:"
   ]
  },
  {
   "cell_type": "markdown",
   "metadata": {},
   "source": [
    "### Create a Method prints an image of your pokemon\n",
    "\n",
    "<p>HINT: You may need another attribute as well to store your image url within. </p>"
   ]
  },
  {
   "cell_type": "code",
   "execution_count": 260,
   "metadata": {},
   "outputs": [],
   "source": [
    "# Display an image in Jupyter notebook\n",
    "from IPython.display import Image\n",
    "\n",
    "# display(Image( 'https://i.redd.it/45n4mhusa8l41.jpg', width = 300))\n"
   ]
  },
  {
   "cell_type": "code",
   "execution_count": 69,
   "metadata": {},
   "outputs": [],
   "source": [
    "# recreate your pokemon class here\n",
    "from IPython.display import Image\n",
    "import requests\n",
    "\n",
    "class Pokemon:\n",
    "    \n",
    "    def __init__(self, pokemon):\n",
    "        self.name = pokemon\n",
    "        self.image = None\n",
    "        self.call_poke_api()\n",
    "    \n",
    "    def call_poke_api(self):\n",
    "        response = requests.get(f'{api_endpoint}{self.name}')\n",
    "        if response.status_code == 200:\n",
    "            data = response.json()\n",
    "            self.image = data['sprites']['front_default']\n",
    "        else:\n",
    "            print('Error Status Code {response.status_code}')\n",
    "\n",
    "    def print_image(self):\n",
    "        display(Image(self.image))"
   ]
  },
  {
   "cell_type": "code",
   "execution_count": 70,
   "metadata": {},
   "outputs": [
    {
     "data": {
      "image/png": "[encoded data removed]",
      "text/plain": [
       "<IPython.core.display.Image object>"
      ]
     },
     "metadata": {},
     "output_type": "display_data"
    }
   ],
   "source": [
    "mudkip = Pokemon('mudkip')\n",
    "mudkip.print_image()"
   ]
  },
  {
   "cell_type": "code",
   "execution_count": 18,
   "metadata": {},
   "outputs": [],
   "source": [
    "# Calling our new method\n"
   ]
  },
  {
   "cell_type": "markdown",
   "metadata": {},
   "source": [
    "## Exercise 2:"
   ]
  },
  {
   "cell_type": "markdown",
   "metadata": {},
   "source": [
    "### Create a Method that evolves your Pokemon\n",
    "If your pokemon can't evolve any further print a message that says \"\\<name of pokemon> can't evolve.\""
   ]
  },
  {
   "cell_type": "code",
   "execution_count": 103,
   "metadata": {},
   "outputs": [
    {
     "name": "stdout",
     "output_type": "stream",
     "text": [
      "success\n",
      "['mudkip', 'marshtomp', 'swampert']\n",
      "mudkip has evolved to marshtomp\n",
      "marshtomp has evolved to swampert\n",
      "swampert is fully evolved. Cannot be evolved further\n"
     ]
    }
   ],
   "source": [
    "import requests\n",
    "# 1) fetch species from species_endpoint = 'https://pokeapi.co/api/v2/pokemon-species/'\n",
    "# 2) grab evolution chain & fetch the chain\n",
    "# 3) get the full list of evolutions\n",
    "\n",
    "class Pokemon:\n",
    "    def __init__(self, pokemon):\n",
    "        self.name = pokemon\n",
    "        self.evolution_chain = []\n",
    "        self.is_fully_evolved = False\n",
    "        self.ev_chain_data = None\n",
    "        self.call_evolution_chain_api()\n",
    "    \n",
    "    def call_evolution_chain_api(self):\n",
    "        response = requests.get(f'https://pokeapi.co/api/v2/pokemon-species/{self.name}')\n",
    "        if response.status_code == 200:\n",
    "            data = response.json()\n",
    "            self.name = data['name']\n",
    "            if 'evolution_chain' in data:\n",
    "                response = requests.get(data['evolution_chain']['url'])\n",
    "                print('success')\n",
    "                self.ev_chain_data = response.json()\n",
    "            else:\n",
    "                print('This pokemon has no evolution chain.')\n",
    "        else:\n",
    "            print(f'Error, Status Code {response.status_code}')\n",
    "    \n",
    "    def retrieve_evolution_chain(self):\n",
    "        child = self.ev_chain_data['chain']['species']['name']\n",
    "        self.evolution_chain.append(child)\n",
    "        next_evolution = self.ev_chain_data['chain']['evolves_to']\n",
    "        while next_evolution:\n",
    "            self.evolution_chain.append(next_evolution[0]['species']['name'])\n",
    "            next_evolution = next_evolution[0]['evolves_to']\n",
    "            \n",
    "    def evolve(self):\n",
    "        if self.name == self.evolution_chain[-1]:\n",
    "            print(f'{self.name} is fully evolved. Cannot be evolved further.')\n",
    "        else:\n",
    "            index = self.evolution_chain.index(self.name)\n",
    "            previous = self.name\n",
    "            self.name = self.evolution_chain[index+1]\n",
    "            print(f'{previous} has evolved to {self.name}')\n",
    "        \n",
    "            \n",
    "            \n",
    "my_pokemon = Pokemon('mudkip') \n",
    "my_pokemon.retrieve_evolution_chain()\n",
    "print(my_pokemon.evolution_chain)\n",
    "my_pokemon.evolve()\n",
    "my_pokemon.evolve()\n",
    "my_pokemon.evolve()\n"
   ]
  },
  {
   "cell_type": "markdown",
   "metadata": {},
   "source": [
    "Now let's evolve a few"
   ]
  },
  {
   "cell_type": "code",
   "execution_count": null,
   "metadata": {
    "scrolled": true
   },
   "outputs": [],
   "source": []
  },
  {
   "cell_type": "code",
   "execution_count": null,
   "metadata": {},
   "outputs": [],
   "source": []
  },
  {
   "cell_type": "code",
   "execution_count": null,
   "metadata": {},
   "outputs": [],
   "source": []
  },
  {
   "cell_type": "markdown",
   "metadata": {},
   "source": [
    "#  Final Exercise: <br> <br>Create a Move_Tutor Class that will allow the Pokemon Class to inherit a move list.\n",
    "<br>\n",
    "<p>for an added bonus you can make sure that if a pokemon has 4 moves the user can choose one of them to replace with a new move. </p>"
   ]
  },
  {
   "cell_type": "code",
   "execution_count": 19,
   "metadata": {},
   "outputs": [],
   "source": [
    "class Move_Tutor:\n",
    "    def __init__(self):\n",
    "        self.move_list = []"
   ]
  },
  {
   "cell_type": "code",
   "execution_count": null,
   "metadata": {},
   "outputs": [],
   "source": []
  },
  {
   "cell_type": "code",
   "execution_count": 81,
   "metadata": {},
   "outputs": [
    {
     "name": "stdout",
     "output_type": "stream",
     "text": [
      "What move would you like to teach pikachu? spark\n",
      "pikachu learned spark!\n"
     ]
    }
   ],
   "source": [
    "pikachu.teach_move()\n"
   ]
  },
  {
   "cell_type": "code",
   "execution_count": 79,
   "metadata": {},
   "outputs": [
    {
     "name": "stdout",
     "output_type": "stream",
     "text": [
      "pikachu's moves'\n",
      "thunder\n",
      "surf\n",
      "earthquake\n"
     ]
    }
   ],
   "source": [
    "pikachu.show_moves()"
   ]
  }
 ],
 "metadata": {
  "kernelspec": {
   "display_name": "Python 3 (ipykernel)",
   "language": "python",
   "name": "python3"
  },
  "language_info": {
   "codemirror_mode": {
    "name": "ipython",
    "version": 3
   },
   "file_extension": ".py",
   "mimetype": "text/x-python",
   "name": "python",
   "nbconvert_exporter": "python",
   "pygments_lexer": "ipython3",
   "version": "3.10.9"
  }
 },
 "nbformat": 4,
 "nbformat_minor": 4
}
